{
 "cells": [
  {
   "cell_type": "code",
   "execution_count": null,
   "id": "21cfb1d0-af7f-45c3-90b5-8c06cbc641fe",
   "metadata": {},
   "outputs": [],
   "source": [
    "Continuation with String Datatype :\n"
   ]
  },
  {
   "cell_type": "code",
   "execution_count": null,
   "id": "1a058f56-e400-41c8-af91-25a7b6ae771a",
   "metadata": {},
   "outputs": [],
   "source": [
    "Introduction to f strings**\n"
   ]
  },
  {
   "cell_type": "code",
   "execution_count": null,
   "id": "d7ea811d-495a-4c20-8044-fc90d960a4ca",
   "metadata": {},
   "outputs": [],
   "source": []
  },
  {
   "cell_type": "code",
   "execution_count": null,
   "id": "bcc261ea-b038-4198-b57e-815d3a720fbc",
   "metadata": {},
   "outputs": [],
   "source": [
    "firstname = 'dinesh'\n",
    "\n",
    "lastname = 'kumar'"
   ]
  },
  {
   "cell_type": "code",
   "execution_count": 9,
   "id": "5a72aff5-76c7-46da-a0da-31ef2e210414",
   "metadata": {},
   "outputs": [],
   "source": [
    "# req : I want to get the fullname....?"
   ]
  },
  {
   "cell_type": "code",
   "execution_count": null,
   "id": "18e44416-bbb2-44a2-a3e9-ef0c40211bc2",
   "metadata": {},
   "outputs": [],
   "source": [
    "# general syntax of f strings"
   ]
  },
  {
   "cell_type": "code",
   "execution_count": null,
   "id": "2e7c8d74-728e-4203-8536-af7206f7e223",
   "metadata": {},
   "outputs": [],
   "source": [
    "firstname = 'dinesh'\n",
    "\n",
    "lastname = 'kumar'"
   ]
  },
  {
   "cell_type": "code",
   "execution_count": null,
   "id": "f085af81-6087-4430-bc6a-d9b45d52cd6d",
   "metadata": {},
   "outputs": [],
   "source": [
    "f\"custom message {place_holder1} {placeholder_2}.......{placeholder_n}\""
   ]
  },
  {
   "cell_type": "code",
   "execution_count": 14,
   "id": "da36fa80-59b7-4dd9-b967-ad01807e2c5d",
   "metadata": {},
   "outputs": [
    {
     "ename": "NameError",
     "evalue": "name 'firstname' is not defined",
     "output_type": "error",
     "traceback": [
      "\u001b[1;31m---------------------------------------------------------------------------\u001b[0m",
      "\u001b[1;31mNameError\u001b[0m                                 Traceback (most recent call last)",
      "Cell \u001b[1;32mIn[14], line 1\u001b[0m\n\u001b[1;32m----> 1\u001b[0m fullname \u001b[38;5;241m=\u001b[39m \u001b[38;5;124mf\u001b[39m\u001b[38;5;124m\"\u001b[39m\u001b[38;5;132;01m{\u001b[39;00mfirstname\u001b[38;5;132;01m}\u001b[39;00m\u001b[38;5;124m \u001b[39m\u001b[38;5;132;01m{\u001b[39;00mlastname\u001b[38;5;132;01m}\u001b[39;00m\u001b[38;5;124m\"\u001b[39m\n\u001b[0;32m      2\u001b[0m \u001b[38;5;28mprint\u001b[39m(fullname)\n",
      "\u001b[1;31mNameError\u001b[0m: name 'firstname' is not defined"
     ]
    }
   ],
   "source": [
    "fullname = f\"{firstname} {lastname}\"\n",
    "print(fullname)"
   ]
  },
  {
   "cell_type": "code",
   "execution_count": null,
   "id": "2c2c9555-277d-42d5-ba98-acf2920a0bc6",
   "metadata": {},
   "outputs": [],
   "source": [
    "*need help"
   ]
  },
  {
   "cell_type": "code",
   "execution_count": 11,
   "id": "821ab14a-67e8-4c0e-a9f3-e9d8e3db64a6",
   "metadata": {},
   "outputs": [
    {
     "ename": "NameError",
     "evalue": "name 'fullname' is not defined",
     "output_type": "error",
     "traceback": [
      "\u001b[1;31m---------------------------------------------------------------------------\u001b[0m",
      "\u001b[1;31mNameError\u001b[0m                                 Traceback (most recent call last)",
      "Cell \u001b[1;32mIn[11], line 1\u001b[0m\n\u001b[1;32m----> 1\u001b[0m \u001b[38;5;28mprint\u001b[39m(fullname\u001b[38;5;241m.\u001b[39mtitle())\n",
      "\u001b[1;31mNameError\u001b[0m: name 'fullname' is not defined"
     ]
    }
   ],
   "source": [
    "print(fullname.title())"
   ]
  },
  {
   "cell_type": "code",
   "execution_count": null,
   "id": "fb7e8078-947f-4fb7-9afc-e263eeb8d999",
   "metadata": {},
   "outputs": [],
   "source": [
    "*need help"
   ]
  },
  {
   "cell_type": "code",
   "execution_count": null,
   "id": "0c8bcb15-df4f-413d-88df-0b846a2146dc",
   "metadata": {},
   "outputs": [],
   "source": [
    "message = f\"keep up the good work, {fullname.title()}\""
   ]
  },
  {
   "cell_type": "code",
   "execution_count": 15,
   "id": "129f7a85-2e0b-4f5d-a5d2-43479dc2896b",
   "metadata": {},
   "outputs": [
    {
     "ename": "NameError",
     "evalue": "name 'message' is not defined",
     "output_type": "error",
     "traceback": [
      "\u001b[1;31m---------------------------------------------------------------------------\u001b[0m",
      "\u001b[1;31mNameError\u001b[0m                                 Traceback (most recent call last)",
      "Cell \u001b[1;32mIn[15], line 1\u001b[0m\n\u001b[1;32m----> 1\u001b[0m \u001b[38;5;28mprint\u001b[39m(message)\n",
      "\u001b[1;31mNameError\u001b[0m: name 'message' is not defined"
     ]
    }
   ],
   "source": [
    "print(message)"
   ]
  },
  {
   "cell_type": "code",
   "execution_count": null,
   "id": "15fea69e-2c6d-4a52-b98e-32ed35f82fe1",
   "metadata": {},
   "outputs": [],
   "source": [
    "*need help"
   ]
  },
  {
   "cell_type": "code",
   "execution_count": null,
   "id": "fe25f0dd-92c2-4478-9fd9-339470a278ef",
   "metadata": {},
   "outputs": [],
   "source": []
  },
  {
   "cell_type": "code",
   "execution_count": null,
   "id": "58aca537-a0ec-4681-947d-d63586f4d3c6",
   "metadata": {},
   "outputs": [],
   "source": []
  },
  {
   "cell_type": "code",
   "execution_count": null,
   "id": "2fa07675-53c2-4cde-8fe7-5f6a2db92630",
   "metadata": {},
   "outputs": [],
   "source": []
  },
  {
   "cell_type": "code",
   "execution_count": null,
   "id": "b95d886f-6279-4839-9a86-1bfdc570cbae",
   "metadata": {},
   "outputs": [],
   "source": [
    "Adding whitespaces to strings : "
   ]
  },
  {
   "cell_type": "code",
   "execution_count": 17,
   "id": "d799dce1-88c5-4fcd-bd8c-b4ecfbf8dcea",
   "metadata": {},
   "outputs": [
    {
     "ename": "SyntaxError",
     "evalue": "unterminated string literal (detected at line 1) (3039116522.py, line 1)",
     "output_type": "error",
     "traceback": [
      "\u001b[1;36m  Cell \u001b[1;32mIn[17], line 1\u001b[1;36m\u001b[0m\n\u001b[1;33m    print(favourite_language:PythonCjavac++swiftjavascript\")\u001b[0m\n\u001b[1;37m                                                          ^\u001b[0m\n\u001b[1;31mSyntaxError\u001b[0m\u001b[1;31m:\u001b[0m unterminated string literal (detected at line 1)\n"
     ]
    }
   ],
   "source": [
    "print(favourite_language:PythonCjavac++swiftjavascript\")"
   ]
  },
  {
   "cell_type": "code",
   "execution_count": null,
   "id": "06f6efd4-0086-45b1-8391-d84ab0c5f9d3",
   "metadata": {},
   "outputs": [],
   "source": []
  }
 ],
 "metadata": {
  "kernelspec": {
   "display_name": "Python [conda env:base] *",
   "language": "python",
   "name": "conda-base-py"
  },
  "language_info": {
   "codemirror_mode": {
    "name": "ipython",
    "version": 3
   },
   "file_extension": ".py",
   "mimetype": "text/x-python",
   "name": "python",
   "nbconvert_exporter": "python",
   "pygments_lexer": "ipython3",
   "version": "3.13.5"
  }
 },
 "nbformat": 4,
 "nbformat_minor": 5
}
