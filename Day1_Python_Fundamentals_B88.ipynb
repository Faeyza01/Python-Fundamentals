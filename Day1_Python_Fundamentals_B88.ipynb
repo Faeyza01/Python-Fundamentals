{
 "cells": [
  {
   "cell_type": "code",
   "execution_count": 1,
   "id": "c575a997-b8a8-4d5a-9a8a-7bb89133053c",
   "metadata": {},
   "outputs": [
    {
     "name": "stdout",
     "output_type": "stream",
     "text": [
      "Hello World all welcome to the python programme\n"
     ]
    }
   ],
   "source": [
    "print(\"Hello World all welcome to the python programme\")"
   ]
  },
  {
   "cell_type": "code",
   "execution_count": null,
   "id": "de4fae87-1dd7-430d-a1f4-eba46920ab49",
   "metadata": {},
   "outputs": [],
   "source": []
  }
 ],
 "metadata": {
  "kernelspec": {
   "display_name": "Python [conda env:base] *",
   "language": "python",
   "name": "conda-base-py"
  },
  "language_info": {
   "codemirror_mode": {
    "name": "ipython",
    "version": 3
   },
   "file_extension": ".py",
   "mimetype": "text/x-python",
   "name": "python",
   "nbconvert_exporter": "python",
   "pygments_lexer": "ipython3",
   "version": "3.13.5"
  }
 },
 "nbformat": 4,
 "nbformat_minor": 5
}
